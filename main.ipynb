{
 "cells": [
  {
   "cell_type": "code",
   "execution_count": 1,
   "metadata": {},
   "outputs": [],
   "source": [
    "import numpy as np \n",
    "import pandas as pd \n",
    "from sklearn.model_selection import train_test_split\n",
    "import matplotlib.pyplot as plt\n",
    "from sklearn.metrics import confusion_matrix"
   ]
  },
  {
   "cell_type": "code",
   "execution_count": 2,
   "metadata": {},
   "outputs": [],
   "source": [
    "#logistic function \n",
    "def sig(z):\n",
    "    \n",
    "    sig= 1/(1+np.exp(-z))\n",
    "    \n",
    "    return sig"
   ]
  },
  {
   "cell_type": "code",
   "execution_count": 3,
   "metadata": {},
   "outputs": [],
   "source": [
    "#cost/loss function \n",
    "def loss(prob, y):\n",
    "    \n",
    "    l=(-y * np.log(prob) - (1 - y) * np.log(1 - prob)).mean()\n",
    "   \n",
    "    return l"
   ]
  },
  {
   "cell_type": "code",
   "execution_count": 209,
   "metadata": {},
   "outputs": [],
   "source": [
    "#training and validation \n",
    "def log_reg(x1,y1,x2,y2,epochs,learning_rate):\n",
    "    l1=[]\n",
    "    l3=[]\n",
    "    b=0\n",
    "    weights = np.random.rand(x1.T.shape[0])\n",
    "    \n",
    "    for epoch in range(epochs):\n",
    "        \n",
    "        #Basis Function, Probability Caluculation \n",
    "        z= np.matmul(x1,weights)+ b\n",
    "        probability= sig(z)\n",
    "        l= loss(probability,y1)\n",
    "        \n",
    "        \n",
    "        #validation loss computation\n",
    "        z1= np.matmul(x2,weights)+ b\n",
    "        probability1= sig(z1)\n",
    "        l2= loss(probability1,y2)\n",
    "        \n",
    "        #Gradient Descent \n",
    "        del_p = probability-y1\n",
    "        del_w= np.dot(del_p,x1).mean()\n",
    "        del_b= np.mean(del_p)\n",
    "        \n",
    "        l3.append(l2)\n",
    "        l1.append(l)\n",
    "        weights= weights - learning_rate*del_w\n",
    "        b = b - learning_rate*del_b\n",
    "\n",
    "    #train_data & val_data Epoch vs Loss\n",
    "    plt.figure(1)  \n",
    "    plt.xlabel(\"Epochs\")\n",
    "    plt.ylabel(\"Loss\")\n",
    "    plt.plot(l1)\n",
    "    plt.plot(l3)\n",
    "            \n",
    "    return [b,weights]"
   ]
  },
  {
   "cell_type": "code",
   "execution_count": 210,
   "metadata": {},
   "outputs": [],
   "source": [
    "#test_data prediction \n",
    "def predict(X_test,weights,b):\n",
    "    \n",
    "    pred = []\n",
    "    \n",
    "    #Prediction Decision Boundry set to 0.5 \n",
    "    for i in sig(np.dot(X_test, weights.T) + b):\n",
    "        if i>0.5:\n",
    "            pred.append(1)\n",
    "        else:\n",
    "            pred.append(0)\n",
    "    \n",
    "    return pred"
   ]
  },
  {
   "cell_type": "code",
   "execution_count": 211,
   "metadata": {},
   "outputs": [],
   "source": [
    "#Test data metrics \n",
    "def accuracy(y_test,x_test,weights,b):\n",
    "    \n",
    "    y_pred= (predict(x_test,weights,b))\n",
    "    confusion_mat= confusion_matrix(y_test,y_pred)\n",
    "    \n",
    "    true_pos=confusion_mat[0][0]\n",
    "    false_pos=confusion_mat[1][0]\n",
    "    true_neg= confusion_mat[1][1]\n",
    "    false_neg= confusion_mat[0][1]\n",
    "    \n",
    "    acc = (true_pos + true_neg)/(true_pos+true_neg+false_pos+false_neg)\n",
    "    precision = true_pos/(true_pos + false_pos)\n",
    "    recall = true_pos/(true_pos + false_neg)\n",
    "    \n",
    "    print(\"Accuracy of the Model is:\", acc*100)\n",
    "    print(\"Precision of the Model is:\", precision*100)\n",
    "    print(\"Recall of the Model is:\", recall*100)\n",
    "    \n",
    "    return 0"
   ]
  },
  {
   "cell_type": "code",
   "execution_count": 230,
   "metadata": {},
   "outputs": [],
   "source": [
    "def main():\n",
    "    learning_rate= 1\n",
    "    epochs =15000\n",
    "    \n",
    "    #Importing Dataset and Replacing Target values with binary values \n",
    "    cancer_data= pd.read_csv('wdbc.csv')\n",
    "    cancer_data=cancer_data.replace('M',1)\n",
    "    cancer_data=cancer_data.replace('B',0)\n",
    "    cancer_data.head(10)\n",
    "    \n",
    "    # Feature Extraction and Normalization \n",
    "    xi = cancer_data.iloc[:, 2:32].values\n",
    "    x= ((xi-np.min(xi))/(np.max(xi)-np.min(xi)))\n",
    "    \n",
    "    #Splitting Data Set into Train, Test and Validation Data \n",
    "    y = cancer_data.iloc[:, 1].values\n",
    "    x_train1, x_test, y_train1, y_test = train_test_split(x, y, test_size = 0.1, random_state =17)\n",
    "    x_train, x_val, y_train, y_val = train_test_split(x_train1, y_train1, test_size = 0.1, random_state = 17) \n",
    "    print(x_train.shape,x_test.shape,y_train.shape,y_test.shape,x_val.shape,y_val.shape)\n",
    "    \n",
    "    #Function Call for Logistic Regression \n",
    "    set= log_reg(x_train,y_train,x_val,y_val,epochs,learning_rate)\n",
    "    b=set[0]\n",
    "    weights=np.array(set[1:])\n",
    "    \n",
    "    print(weights)\n",
    "    accuracy(y_test,x_test,weights,b)\n",
    "  "
   ]
  },
  {
   "cell_type": "code",
   "execution_count": 231,
   "metadata": {},
   "outputs": [
    {
     "name": "stdout",
     "output_type": "stream",
     "text": [
      "(460, 30) (57, 30) (460,) (57,) (52, 30) (52,)\n",
      "[[23.41395888 22.82188344 22.65877431 23.16834875 22.62229495 23.42866187\n",
      "  22.86402825 22.89506745 22.75621177 22.98419451 23.4690107  23.21725827\n",
      "  23.33463992 22.69461093 22.90313422 22.63863335 22.99286839 22.76803929\n",
      "  22.8874148  23.4030357  23.29787381 22.79646192 22.51014637 23.04730584\n",
      "  22.64869149 23.38125298 22.53990115 23.47279903 23.22488508 22.61138221]]\n",
      "Accuracy of the Model is: 98.24561403508771\n",
      "Precision of the Model is: 97.82608695652173\n",
      "Recall of the Model is: 100.0\n"
     ]
    },
    {
     "data": {
      "image/png": "[encoded data removed]",
      "text/plain": [
       "<Figure size 432x288 with 1 Axes>"
      ]
     },
     "metadata": {},
     "output_type": "display_data"
    }
   ],
   "source": [
    "if __name__ == \"__main__\":\n",
    "    main()"
   ]
  },
  {
   "cell_type": "code",
   "execution_count": null,
   "metadata": {},
   "outputs": [],
   "source": []
  },
  {
   "cell_type": "code",
   "execution_count": null,
   "metadata": {},
   "outputs": [],
   "source": []
  }
 ],
 "metadata": {
  "kernelspec": {
   "display_name": "Python 3",
   "language": "python",
   "name": "python3"
  },
  "language_info": {
   "codemirror_mode": {
    "name": "ipython",
    "version": 3
   },
   "file_extension": ".py",
   "mimetype": "text/x-python",
   "name": "python",
   "nbconvert_exporter": "python",
   "pygments_lexer": "ipython3",
   "version": "3.8.5"
  }
 },
 "nbformat": 4,
 "nbformat_minor": 2
}
